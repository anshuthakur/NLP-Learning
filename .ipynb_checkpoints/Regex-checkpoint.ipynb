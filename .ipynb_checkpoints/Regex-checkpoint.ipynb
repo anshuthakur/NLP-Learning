{
 "cells": [
  {
   "cell_type": "markdown",
   "metadata": {},
   "source": [
    "A regular expression is a special sequence of characters that helps you match or find other strings or sets of strings, using a specialized syntax held in a pattern. There are various characters, which would have special meaning when they are used in regular expression. To avoid any confusion while dealing with regular expressions, we would use Raw Strings as **r'expression'**."
   ]
  },
  {
   "cell_type": "markdown",
   "metadata": {},
   "source": [
    "Regex in Python<br>\n",
    "<ul><li>Functions</li><li>Flags</li><li>Regex Patterns</li>"
   ]
  },
  {
   "cell_type": "markdown",
   "metadata": {},
   "source": [
    "#### Functions\n",
    "##### re.compile\n",
    "`re.compile(pattern, flags = 0)` compiles the pattern into regex object. More useful when there are multiple regex patterns to match."
   ]
  },
  {
   "cell_type": "code",
   "execution_count": 1,
   "metadata": {},
   "outputs": [
    {
     "name": "stdout",
     "output_type": "stream",
     "text": [
      "re.compile('Hello world.')\n"
     ]
    }
   ],
   "source": [
    "import re\n",
    "\n",
    "text = \"Hello world.\"\n",
    "search = re.compile(text)\n",
    "print(search)"
   ]
  },
  {
   "cell_type": "code",
   "execution_count": 2,
   "metadata": {},
   "outputs": [
    {
     "name": "stdout",
     "output_type": "stream",
     "text": [
      "<class 're.Pattern'>\n"
     ]
    }
   ],
   "source": [
    "print(type(search))"
   ]
  },
  {
   "cell_type": "markdown",
   "metadata": {},
   "source": [
    "<hr>"
   ]
  },
  {
   "cell_type": "markdown",
   "metadata": {},
   "source": [
    "\n",
    "##### re.search\n",
    "`re.search(pattern, string, flags)` - It scans through the entire string for the pattern and returns a match object. It returns `None` if there is no match."
   ]
  },
  {
   "cell_type": "code",
   "execution_count": 3,
   "metadata": {},
   "outputs": [
    {
     "name": "stdout",
     "output_type": "stream",
     "text": [
      "For search word 1 <re.Match object; span=(0, 3), match='NLP'>\n",
      "For search word 2 None\n"
     ]
    }
   ],
   "source": [
    "text = \"NLP is Natural Language Processing.\"\n",
    "search_word1 = \"NLP\"\n",
    "search_word2 = \"sample\"\n",
    "search = re.search(search_word1, text)\n",
    "print(\"For search word 1\",search)\n",
    "search = re.search(search_word2, text)\n",
    "print(\"For search word 2\",search)"
   ]
  },
  {
   "cell_type": "markdown",
   "metadata": {},
   "source": [
    "<hr>"
   ]
  },
  {
   "cell_type": "markdown",
   "metadata": {},
   "source": [
    "##### re.match()\n",
    "`re.match(pattern, string, flags)` - It checks if the pattern is present at the beginning of the string and returns a match object. It returns `None` if there is no match."
   ]
  },
  {
   "cell_type": "code",
   "execution_count": 4,
   "metadata": {},
   "outputs": [
    {
     "name": "stdout",
     "output_type": "stream",
     "text": [
      "For search word 1 <re.Match object; span=(0, 3), match='NLP'>\n",
      "For search word 2 None\n"
     ]
    }
   ],
   "source": [
    "text = \"\"\"NLP is natural language processing.\"\"\"\n",
    "search_word1 = \"NLP\"\n",
    "search_word2 = \"sample\"\n",
    "search = re.match(search_word1, text)\n",
    "print(\"For search word 1\",search)\n",
    "search = re.match(search_word2, text)\n",
    "print(\"For search word 2\",search)"
   ]
  },
  {
   "cell_type": "code",
   "execution_count": 5,
   "metadata": {},
   "outputs": [
    {
     "name": "stdout",
     "output_type": "stream",
     "text": [
      "Search -  <re.Match object; span=(4, 6), match='is'>\n",
      "Match -  None\n"
     ]
    }
   ],
   "source": [
    "search_word3 = \"is\"\n",
    "print(\"Search - \", re.search(search_word3, text))\n",
    "print(\"Match - \", re.match(search_word3, text))"
   ]
  },
  {
   "cell_type": "code",
   "execution_count": 6,
   "metadata": {},
   "outputs": [
    {
     "name": "stdout",
     "output_type": "stream",
     "text": [
      "<re.Match object; span=(0, 4), match='some'>\n",
      "None\n",
      "None\n",
      "<re.Match object; span=(10, 19), match='someother'>\n",
      "<re.Match object; span=(10, 19), match='someother'>\n",
      "None\n",
      "<re.Match object; span=(4, 9), match='thing'>\n",
      "<re.Match object; span=(19, 24), match='thing'>\n"
     ]
    }
   ],
   "source": [
    "string_with_newlines = \"\"\"something\n",
    "someotherthing\"\"\"\n",
    "\n",
    "print (re.match('some', string_with_newlines)) # matches\n",
    "print (re.match('someother', string_with_newlines)) # won't match\n",
    "print (re.match('^someother', string_with_newlines,re.MULTILINE)) # also won't match\n",
    "print (re.search('someother', string_with_newlines)) # finds something\n",
    "print (re.search('^someother', string_with_newlines,re.MULTILINE)) # also finds something\n",
    "\n",
    "m = re.compile('thing$', re.MULTILINE)\n",
    "\n",
    "print (m.match(string_with_newlines)) # no match\n",
    "print (m.match(string_with_newlines, pos=4)) # matches\n",
    "print (m.search(string_with_newlines, re.MULTILINE)) # also matches"
   ]
  },
  {
   "cell_type": "markdown",
   "metadata": {},
   "source": [
    "[Differences between re.match and re.search](https://stackoverflow.com/questions/180986/what-is-the-difference-between-re-search-and-re-match)"
   ]
  },
  {
   "cell_type": "markdown",
   "metadata": {},
   "source": [
    "<hr>"
   ]
  },
  {
   "cell_type": "markdown",
   "metadata": {},
   "source": [
    "#### Notes on re.match and re.search\n",
    "<ul>\n",
    "    <li>re.match and re.search both take three arguments - pattern, string and flag</li>\n",
    "    <li>If the pattern is a compiled pattern, then we cannot give flags</li>\n",
    "    <li>The pattern.match and pattern.search takes one, two or three arguments - \n",
    "        <ul>\n",
    "            <li>string</li>\n",
    "            <li>start pos</li>\n",
    "            <li>end pos</li>\n",
    "        </ul>\n",
    "    </li>\n",
    "    <li>pattern.match and pattern.search does not take flags as an argument. `pattern` is not of type string, but obtained by compiling using re.compile. Just as in the case with re.match/search where compiled pattern will not accept flags, pattern.match/search will also not accept flags</li>\n",
    "    <li>In the above cell, re.FLAG returns an integer, which is then used as one of the arguments for start pos and end pos.</li>\n",
    "</ul>"
   ]
  },
  {
   "cell_type": "markdown",
   "metadata": {},
   "source": [
    "##### re.fullmatch()\n",
    "`re.fullmatch(pattern, string, flag)` - If the entire string matches the regex pattern it returns the match object, elsse returns `None`"
   ]
  },
  {
   "cell_type": "code",
   "execution_count": 7,
   "metadata": {},
   "outputs": [
    {
     "name": "stdout",
     "output_type": "stream",
     "text": [
      "None\n"
     ]
    }
   ],
   "source": [
    "print(re.fullmatch(\"Hello\", \"Hello world\"))"
   ]
  },
  {
   "cell_type": "code",
   "execution_count": 8,
   "metadata": {},
   "outputs": [
    {
     "name": "stdout",
     "output_type": "stream",
     "text": [
      "<re.Match object; span=(0, 11), match='Hello world'>\n"
     ]
    }
   ],
   "source": [
    "print(re.fullmatch(\"Hello world\", \"Hello world\"))"
   ]
  },
  {
   "cell_type": "markdown",
   "metadata": {},
   "source": [
    "<hr>"
   ]
  },
  {
   "cell_type": "markdown",
   "metadata": {},
   "source": [
    "##### re.split()\n",
    "`re.split(pattern, string, flags)` - Splits the string by the occurence of pattern. `string.split()` is more useful for splitting text using constant string. "
   ]
  },
  {
   "cell_type": "code",
   "execution_count": 9,
   "metadata": {},
   "outputs": [
    {
     "data": {
      "text/plain": [
       "['One', 'two', 't h r e e', 'fourth field']"
      ]
     },
     "execution_count": 9,
     "metadata": {},
     "output_type": "execute_result"
    }
   ],
   "source": [
    "text = \"One:two::t h r e e:::fourth field\"\n",
    "re.split(\":+\",text)"
   ]
  },
  {
   "cell_type": "code",
   "execution_count": 10,
   "metadata": {},
   "outputs": [
    {
     "data": {
      "text/plain": [
       "['One', 'two', '', 't h r e e', '', '', 'fourth field']"
      ]
     },
     "execution_count": 10,
     "metadata": {},
     "output_type": "execute_result"
    }
   ],
   "source": [
    "text.split(\":\")"
   ]
  },
  {
   "cell_type": "code",
   "execution_count": 11,
   "metadata": {},
   "outputs": [
    {
     "data": {
      "text/plain": [
       "['One', 'two', 't', 'h', 'r', 'e', 'e', 'fourth', 'field']"
      ]
     },
     "execution_count": 11,
     "metadata": {},
     "output_type": "execute_result"
    }
   ],
   "source": [
    "re.split(r\"\\W+\",text)"
   ]
  },
  {
   "cell_type": "markdown",
   "metadata": {},
   "source": [
    "re.split('[a-f]+', '0a3B9', flags=re.IGNORECASE)"
   ]
  },
  {
   "cell_type": "code",
   "execution_count": 12,
   "metadata": {},
   "outputs": [
    {
     "data": {
      "text/plain": [
       "['0', 'a', '3', 'B', '9']"
      ]
     },
     "execution_count": 12,
     "metadata": {},
     "output_type": "execute_result"
    }
   ],
   "source": [
    "re.split('([a-f]+)', '0a3B9', flags=re.IGNORECASE)"
   ]
  },
  {
   "cell_type": "code",
   "execution_count": 13,
   "metadata": {},
   "outputs": [
    {
     "name": "stdout",
     "output_type": "stream",
     "text": [
      "['', '...', 'words', ', ', 'words', '...', '']\n",
      "['', 'words', 'words', '']\n"
     ]
    }
   ],
   "source": [
    "print(re.split(r'(\\W+)', '...words, words...'))\n",
    "print(re.split(r'\\W+', '...words, words...'))"
   ]
  },
  {
   "cell_type": "markdown",
   "metadata": {},
   "source": [
    "<hr>"
   ]
  },
  {
   "cell_type": "markdown",
   "metadata": {},
   "source": [
    "##### re.findall()\n",
    "`re.findall(pattern, string, flags)` - Return all matches of pattern in string, as a list of strings. "
   ]
  },
  {
   "cell_type": "code",
   "execution_count": 14,
   "metadata": {},
   "outputs": [],
   "source": [
    "text = \"\"\"\n",
    "Split string by the occurrences of pattern. If capturing parentheses are used in pattern, then the text of all groups in the \n",
    "pattern are also returned as part of the resulting list. If maxsplit is nonzero, at most maxsplit splits occur, and the \n",
    "remainder of the string is returned as the final element of the list.\n",
    "\"\"\""
   ]
  },
  {
   "cell_type": "code",
   "execution_count": 15,
   "metadata": {},
   "outputs": [
    {
     "data": {
      "text/plain": [
       "['Split', 'maxsplit', 'maxsplit', 'split']"
      ]
     },
     "execution_count": 15,
     "metadata": {},
     "output_type": "execute_result"
    }
   ],
   "source": [
    "re.findall(r'\\w*split',text, re.I)"
   ]
  },
  {
   "cell_type": "code",
   "execution_count": 16,
   "metadata": {},
   "outputs": [
    {
     "name": "stdout",
     "output_type": "stream",
     "text": [
      "[('Spli', 't'), ('tex', 't'), ('par', 't'), ('maxspli', 't'), ('a', 't')]\n",
      "['Spli', 'tex', 'par', 'maxspli', 'a']\n"
     ]
    }
   ],
   "source": [
    "print(re.findall(r'(\\w*)(t) ',text, re.I)[:5])\n",
    "print(re.findall(r'(\\w*)t ',text, re.I)[:5])"
   ]
  },
  {
   "cell_type": "markdown",
   "metadata": {},
   "source": [
    " If one or more groups are present in the pattern, return a list of groups; this will be a list of tuples if the pattern has more than one group."
   ]
  },
  {
   "cell_type": "code",
   "execution_count": 17,
   "metadata": {},
   "outputs": [
    {
     "data": {
      "text/plain": [
       "[('test', '456')]"
      ]
     },
     "execution_count": 17,
     "metadata": {},
     "output_type": "execute_result"
    }
   ],
   "source": [
    "re.findall('([a-z]+)\\s(\\d+)', 'abcdefg123 and again test 456.')"
   ]
  },
  {
   "cell_type": "markdown",
   "metadata": {},
   "source": [
    "<hr>"
   ]
  },
  {
   "cell_type": "markdown",
   "metadata": {},
   "source": [
    "##### re.finditer()\n",
    "`re.finditer(pattern, string, flags)` - Returns an iterator yielding matched objects"
   ]
  },
  {
   "cell_type": "code",
   "execution_count": 18,
   "metadata": {},
   "outputs": [
    {
     "name": "stdout",
     "output_type": "stream",
     "text": [
      "<callable_iterator object at 0x000000504731BC48>\n",
      "<re.Match object; span=(1, 6), match='Split'>\n",
      "<re.Match object; span=(187, 195), match='maxsplit'>\n",
      "<re.Match object; span=(216, 224), match='maxsplit'>\n",
      "<re.Match object; span=(225, 230), match='split'>\n"
     ]
    }
   ],
   "source": [
    "z = re.finditer(r'\\w*split',text, re.I)\n",
    "print(z)\n",
    "for item in z:\n",
    "    print(item)"
   ]
  },
  {
   "cell_type": "code",
   "execution_count": 19,
   "metadata": {},
   "outputs": [
    {
     "name": "stdout",
     "output_type": "stream",
     "text": [
      "Split  Spli t\n",
      "text  tex t\n",
      "part  par t\n",
      "maxsplit  maxspli t\n",
      "at  a t\n",
      "most  mos t\n",
      "maxsplit  maxspli t\n",
      "element  elemen t\n",
      "\n",
      "<re.Match object; span=(1, 7), match='Split '>\n",
      "<re.Match object; span=(100, 105), match='text '>\n",
      "<re.Match object; span=(156, 161), match='part '>\n",
      "<re.Match object; span=(187, 196), match='maxsplit '>\n",
      "<re.Match object; span=(208, 211), match='at '>\n",
      "<re.Match object; span=(211, 216), match='most '>\n",
      "<re.Match object; span=(216, 225), match='maxsplit '>\n",
      "<re.Match object; span=(297, 305), match='element '>\n",
      "\n",
      "Split  Spli\n",
      "text  tex\n",
      "part  par\n",
      "maxsplit  maxspli\n",
      "at  a\n",
      "most  mos\n",
      "maxsplit  maxspli\n",
      "element  elemen\n"
     ]
    }
   ],
   "source": [
    "for i in re.finditer(r'(\\w*)(t) ',text, re.I):\n",
    "    print(i.group(0),i.group(1),i.group(2))\n",
    "print()\n",
    "print(*re.finditer(r'(\\w*)t ',text, re.I), sep=\"\\n\")\n",
    "print()\n",
    "for i in re.finditer(r'(\\w*)t ',text, re.I):\n",
    "    print(i.group(0),i.group(1))\n"
   ]
  },
  {
   "cell_type": "markdown",
   "metadata": {},
   "source": [
    "<hr>"
   ]
  },
  {
   "cell_type": "markdown",
   "metadata": {},
   "source": [
    "##### re.sub()\n",
    "` re.sub(pattern, repl, string, count=0, flags=0)` - Return the string obtained by replacing the leftmost non-overlapping occurrences of pattern in string by the replacement repl. If the pattern isn’t found, string is returned unchanged."
   ]
  },
  {
   "cell_type": "code",
   "execution_count": 20,
   "metadata": {},
   "outputs": [
    {
     "name": "stdout",
     "output_type": "stream",
     "text": [
      "Return all non-overlapping matches of pattern in text, as a list of text.\n"
     ]
    }
   ],
   "source": [
    "text = \"Return all non-overlapping matches of pattern in string, as a list of strings.\"\n",
    "print(re.sub(r'string\\w*', \"text\",text))"
   ]
  },
  {
   "cell_type": "markdown",
   "metadata": {},
   "source": [
    "`repl` can be a function"
   ]
  },
  {
   "cell_type": "code",
   "execution_count": 21,
   "metadata": {},
   "outputs": [
    {
     "name": "stdout",
     "output_type": "stream",
     "text": [
      "The first number is 14.2, and the second number is 50.6000.\n"
     ]
    }
   ],
   "source": [
    "def my_replace(match):\n",
    "    match1 = match.group(1)\n",
    "    match2 = match.group(2)\n",
    "    match2 = match2.replace('@', '')\n",
    "    return u\"{0:0.{1}f}\".format(float(match1), int(match2))\n",
    "\n",
    "string = 'The first number is 14.2@1, and the second number is 50.6@4.'\n",
    "result = re.sub(r'([0-9]+.[0-9]+)(@[0-9]+)', my_replace, string)\n",
    "\n",
    "print(result)"
   ]
  },
  {
   "cell_type": "markdown",
   "metadata": {},
   "source": [
    "<hr>"
   ]
  },
  {
   "cell_type": "markdown",
   "metadata": {},
   "source": [
    "##### re.subn()\n",
    "`re.subn(pattern, repl, string,count, flags)` - Perform the same operation as sub(), but return a tuple (new_string, number_of_subs_made)."
   ]
  },
  {
   "cell_type": "code",
   "execution_count": 22,
   "metadata": {},
   "outputs": [
    {
     "name": "stdout",
     "output_type": "stream",
     "text": [
      "('Return all non-overlapping matches of pattern in text, as a list of text.', 2)\n"
     ]
    }
   ],
   "source": [
    "text = \"Return all non-overlapping matches of pattern in string, as a list of strings.\"\n",
    "print(re.subn(r'string\\w*', \"text\",text))"
   ]
  },
  {
   "cell_type": "code",
   "execution_count": 23,
   "metadata": {},
   "outputs": [
    {
     "name": "stdout",
     "output_type": "stream",
     "text": [
      "('The first number is 14.2, and the second number is 50.6000.', 2)\n"
     ]
    }
   ],
   "source": [
    "string = 'The first number is 14.2@1, and the second number is 50.6@4.'\n",
    "result = re.subn(r'([0-9]+.[0-9]+)(@[0-9]+)', my_replace, string)\n",
    "\n",
    "print(result)"
   ]
  },
  {
   "cell_type": "markdown",
   "metadata": {},
   "source": [
    "<hr>"
   ]
  },
  {
   "cell_type": "markdown",
   "metadata": {},
   "source": [
    "##### re.escape()\n",
    "`re.escape(pattern)` - Escape special characters in pattern."
   ]
  },
  {
   "cell_type": "code",
   "execution_count": 24,
   "metadata": {},
   "outputs": [
    {
     "name": "stdout",
     "output_type": "stream",
     "text": [
      "http://www\\.python\\.org\n"
     ]
    }
   ],
   "source": [
    "print(re.escape('http://www.python.org'))"
   ]
  },
  {
   "cell_type": "code",
   "execution_count": 25,
   "metadata": {},
   "outputs": [
    {
     "data": {
      "text/plain": [
       "[' ', ' ', 'a', ' ', 'a', ' ', '$', '.']"
      ]
     },
     "execution_count": 25,
     "metadata": {},
     "output_type": "execute_result"
    }
   ],
   "source": [
    "z= '['+re.escape(r'\\ a.*$')+']'\n",
    "re.findall(z, \"This is a sample string$.\")"
   ]
  },
  {
   "cell_type": "code",
   "execution_count": 26,
   "metadata": {},
   "outputs": [
    {
     "name": "stdout",
     "output_type": "stream",
     "text": [
      "[abcdefghijklmnopqrstuvwxyz0123456789!\\#\\$%\\&'\\*\\+\\-\\.\\^_`\\|\\~:/]+\n"
     ]
    }
   ],
   "source": [
    "import string\n",
    "legal_chars = string.ascii_lowercase + string.digits + \"!#$%&'*+-.^_`|~:/\"\n",
    "print('[%s]+' % re.escape(legal_chars))"
   ]
  },
  {
   "cell_type": "markdown",
   "metadata": {},
   "source": [
    "<hr>"
   ]
  },
  {
   "cell_type": "markdown",
   "metadata": {},
   "source": [
    "##### re.purge()\n",
    "`re.purge()` - Clear the regular expression cache.\n",
    "\n",
    "[Why should we use re.purge](https://stackoverflow.com/questions/54773313/why-should-we-use-re-purge-in-python-regular-expression)"
   ]
  },
  {
   "cell_type": "markdown",
   "metadata": {},
   "source": [
    "<hr>"
   ]
  },
  {
   "cell_type": "code",
   "execution_count": 27,
   "metadata": {},
   "outputs": [
    {
     "name": "stdout",
     "output_type": "stream",
     "text": [
      "missing ), unterminated subpattern at position 0\n"
     ]
    }
   ],
   "source": [
    "try:\n",
    "    print(re.search('(t', \"Text\"))\n",
    "except Exception as e:\n",
    "    print(e)"
   ]
  },
  {
   "cell_type": "code",
   "execution_count": 28,
   "metadata": {},
   "outputs": [
    {
     "name": "stdout",
     "output_type": "stream",
     "text": [
      "re.compile('(?P<Group>g\\\\w+)(?P<of>\\\\sof)', re.IGNORECASE)\n"
     ]
    }
   ],
   "source": [
    "pattern = re.compile(r\"(?P<Group>g\\w+)(?P<of>\\sof)\", re.IGNORECASE)\n",
    "my_string = \"\"\"\n",
    "Returns one or more subgroups of the match. \n",
    "If there is a single argument, the result is a single string; \n",
    "if there are multiple arguments, the result is a tuple with one item per argument. \n",
    "Without arguments, group1 defaults to zero (the whole match is returned). \n",
    "If a groupN argument is zero, the corresponding return value is the entire matching string; \n",
    "if it is in the inclusive range [1..99], it is the string matching the corresponding parenthesized group. \n",
    "If a group number is negative or larger than the number of groups defined in the pattern, an IndexError exception is raised. \n",
    "If a group is contained in a part of the pattern that did not match, the corresponding result is None. \n",
    "If a group is contained in a part of the pattern that matched multiple times, the last match is returned.\"\"\"\n",
    "print(pattern)"
   ]
  },
  {
   "cell_type": "code",
   "execution_count": 29,
   "metadata": {},
   "outputs": [
    {
     "name": "stdout",
     "output_type": "stream",
     "text": [
      "<re.Match object; span=(24, 33), match='groups of'>\n",
      "<re.Match object; span=(24, 33), match='groups of'>\n",
      "None\n"
     ]
    }
   ],
   "source": [
    "print(pattern.search(my_string))\n",
    "print(pattern.search(my_string, 20))\n",
    "print(pattern.search(my_string, 9, 15))"
   ]
  },
  {
   "cell_type": "code",
   "execution_count": 30,
   "metadata": {},
   "outputs": [
    {
     "name": "stdout",
     "output_type": "stream",
     "text": [
      "None\n",
      "None\n",
      "<re.Match object; span=(24, 33), match='groups of'>\n",
      "None\n"
     ]
    }
   ],
   "source": [
    "print(pattern.match(my_string))\n",
    "print(pattern.match(my_string, 20))\n",
    "print(pattern.match(my_string, 24))\n",
    "print(pattern.match(my_string, 24, 26))"
   ]
  },
  {
   "cell_type": "code",
   "execution_count": 31,
   "metadata": {},
   "outputs": [
    {
     "name": "stdout",
     "output_type": "stream",
     "text": [
      "34\n",
      "2\n",
      "{'Group': 1, 'of': 2}\n",
      "(?P<Group>g\\w+)(?P<of>\\sof)\n"
     ]
    }
   ],
   "source": [
    "print(pattern.flags)\n",
    "print(pattern.groups)\n",
    "print(pattern.groupindex)\n",
    "print(pattern.pattern)"
   ]
  },
  {
   "cell_type": "code",
   "execution_count": 32,
   "metadata": {},
   "outputs": [
    {
     "name": "stdout",
     "output_type": "stream",
     "text": [
      "matched term -  of\n",
      "('groups', ' of')\n",
      "<re.Match object; span=(24, 33), match='groups of'>\n",
      "groups of\n",
      "groups of\n",
      "groups\n",
      " of\n"
     ]
    }
   ],
   "source": [
    "match = pattern.search(my_string)\n",
    "print(match.expand(r\"matched term - \\2\"))\n",
    "print(match.groups())\n",
    "print(match)\n",
    "print(match.group())\n",
    "print(match.group(0))\n",
    "print(match.group(1))\n",
    "print(match.group(2))"
   ]
  },
  {
   "cell_type": "code",
   "execution_count": 33,
   "metadata": {},
   "outputs": [
    {
     "data": {
      "text/plain": [
       "('groups of', 'groups', ' of')"
      ]
     },
     "execution_count": 33,
     "metadata": {},
     "output_type": "execute_result"
    }
   ],
   "source": [
    "match[0],match[1],match[2]"
   ]
  },
  {
   "cell_type": "code",
   "execution_count": 34,
   "metadata": {},
   "outputs": [
    {
     "data": {
      "text/plain": [
       "{'Group': 'groups', 'of': ' of'}"
      ]
     },
     "execution_count": 34,
     "metadata": {},
     "output_type": "execute_result"
    }
   ],
   "source": [
    "match.groupdict()"
   ]
  },
  {
   "cell_type": "code",
   "execution_count": 35,
   "metadata": {},
   "outputs": [
    {
     "name": "stdout",
     "output_type": "stream",
     "text": [
      "24 33\n",
      "24 30\n",
      "30 33\n"
     ]
    }
   ],
   "source": [
    "print(match.start(), match.end())\n",
    "print(match.start(1), match.end(1))\n",
    "print(match.start(2), match.end(2))"
   ]
  },
  {
   "cell_type": "code",
   "execution_count": 36,
   "metadata": {},
   "outputs": [
    {
     "name": "stdout",
     "output_type": "stream",
     "text": [
      "(24, 33)\n",
      "(24, 30)\n",
      "(30, 33)\n"
     ]
    }
   ],
   "source": [
    "print(match.span())\n",
    "print(match.span(1))\n",
    "print(match.span(2))"
   ]
  },
  {
   "cell_type": "code",
   "execution_count": 37,
   "metadata": {},
   "outputs": [
    {
     "data": {
      "text/plain": [
       "24"
      ]
     },
     "execution_count": 37,
     "metadata": {},
     "output_type": "execute_result"
    }
   ],
   "source": [
    "match1 = pattern.match(my_string, 24)\n",
    "match1.pos"
   ]
  },
  {
   "cell_type": "code",
   "execution_count": 38,
   "metadata": {},
   "outputs": [
    {
     "data": {
      "text/plain": [
       "2"
      ]
     },
     "execution_count": 38,
     "metadata": {},
     "output_type": "execute_result"
    }
   ],
   "source": [
    "match.lastindex"
   ]
  },
  {
   "cell_type": "markdown",
   "metadata": {},
   "source": [
    "In regex groups are captured using (). In python re the lastindex holds the last capturing group. Since two groups were matched in `match` the lastindex is `2`<hr>[Source](https://stackoverflow.com/questions/22489243/re-in-python-lastindex-attribute)"
   ]
  },
  {
   "cell_type": "code",
   "execution_count": 39,
   "metadata": {},
   "outputs": [
    {
     "data": {
      "text/plain": [
       "'of'"
      ]
     },
     "execution_count": 39,
     "metadata": {},
     "output_type": "execute_result"
    }
   ],
   "source": [
    "match.lastgroup"
   ]
  },
  {
   "cell_type": "markdown",
   "metadata": {},
   "source": [
    "<hr>"
   ]
  },
  {
   "cell_type": "markdown",
   "metadata": {},
   "source": [
    "#### Flags\n",
    "##### re.A / re.ASCII\n",
    "Performs only ASCII matching instead of unicode matching.\n"
   ]
  },
  {
   "cell_type": "code",
   "execution_count": 40,
   "metadata": {},
   "outputs": [
    {
     "name": "stdout",
     "output_type": "stream",
     "text": [
      "['ŵ', 'something', 'some', 'word']\n",
      "['something', 'some', 'word']\n"
     ]
    }
   ],
   "source": [
    "print(re.findall(r\"\\w+\",\"ŵ something, some word\"))\n",
    "print(re.findall(r\"\\w+\",\"ŵ something, some word\", re.A))"
   ]
  },
  {
   "cell_type": "markdown",
   "metadata": {},
   "source": [
    "##### re.I/ re.IGNORECASE"
   ]
  },
  {
   "cell_type": "code",
   "execution_count": 41,
   "metadata": {},
   "outputs": [
    {
     "name": "stdout",
     "output_type": "stream",
     "text": [
      "['ello', 'world']\n",
      "['Hello', 'world']\n"
     ]
    }
   ],
   "source": [
    "print(re.findall(r\"[a-z]+\",\"Hello world\"))\n",
    "print(re.findall(r\"[a-z]+\",\"Hello world\", re.I))"
   ]
  },
  {
   "cell_type": "markdown",
   "metadata": {},
   "source": [
    "##### re.LOCALE/re.L"
   ]
  },
  {
   "cell_type": "code",
   "execution_count": 42,
   "metadata": {},
   "outputs": [],
   "source": [
    "# pattern = re.compile(r'类'.encode())\n",
    "# pattern_str = r'类'.encode()\n",
    "# t = \"PROCESS：类型：关爱积分[NOTIFY]   交易号：2012022900000109   订单号：W12022910079166    交易金额：0.01元    交易状态：true 2012-2-29 10:13:08\"\n",
    "\n",
    "# print(*re.findall(pattern,t.encode()))\n",
    "# print(*re.findall(pattern_str,t.encode(), re.L))"
   ]
  },
  {
   "cell_type": "markdown",
   "metadata": {},
   "source": [
    "##### re.M/ re.MULTILINE"
   ]
  },
  {
   "cell_type": "code",
   "execution_count": 43,
   "metadata": {},
   "outputs": [],
   "source": [
    "text = \"\"\"\\n1@ ake \\\\w, \\\\W, \\\\b, \\\\B and case-insensitive matching dependent on the current locale. \n",
    "This flag can be used only with bytes patterns. \n",
    "The use of this flag is discouraged as the locale mechanism is very unreliable, \n",
    "it only handles one “culture” at a time, and it only works with 8-bit locales. \n",
    "Unicode matching is already enabled by default in Python 3 for Unicode \n",
    "(str) patterns, and \n",
    "it is able to handle different locales/languages. Corresponds to the inline flag (?L).\"\"\""
   ]
  },
  {
   "cell_type": "code",
   "execution_count": 44,
   "metadata": {},
   "outputs": [
    {
     "name": "stdout",
     "output_type": "stream",
     "text": [
      "None\n",
      "<re.Match object; span=(87, 91), match='This'>\n"
     ]
    }
   ],
   "source": [
    "pattern = r\"^[a-zA-Z]+\"\n",
    "print(re.search(pattern,text))\n",
    "print(re.search(pattern,text,re.M))"
   ]
  },
  {
   "cell_type": "markdown",
   "metadata": {},
   "source": [
    "##### re.DOTALL/ re.S"
   ]
  },
  {
   "cell_type": "code",
   "execution_count": 45,
   "metadata": {},
   "outputs": [
    {
     "name": "stdout",
     "output_type": "stream",
     "text": [
      "<re.Match object; span=(1, 2), match='1'>\n",
      "<re.Match object; span=(0, 1), match='\\n'>\n"
     ]
    }
   ],
   "source": [
    "pattern = r\".\"\n",
    "print(re.search(pattern,text))\n",
    "print(re.search(pattern,text,re.DOTALL))"
   ]
  },
  {
   "cell_type": "markdown",
   "metadata": {},
   "source": [
    "##### re.x/ re.VERBOSE"
   ]
  },
  {
   "cell_type": "code",
   "execution_count": 46,
   "metadata": {},
   "outputs": [],
   "source": [
    "a = re.compile(r\"\"\"\\d +  # the integral part\n",
    "                   \\.    # the decimal point\n",
    "                   \\d *  # some fractional digits\"\"\", re.X)"
   ]
  },
  {
   "cell_type": "code",
   "execution_count": 47,
   "metadata": {},
   "outputs": [
    {
     "name": "stdout",
     "output_type": "stream",
     "text": [
      "<re.Match object; span=(5, 11), match='123.23'>\n"
     ]
    }
   ],
   "source": [
    "print(re.search(a, \"Test 123.23\"))"
   ]
  },
  {
   "cell_type": "markdown",
   "metadata": {},
   "source": [
    "#### Patterns\n",
    "<ul>\n",
    "    <li>. - Matches all character except NEWLINE character. is DOTALL is active, it will match newline characters as well</li>\n",
    "    <li>^ - Matches the start of the string. In MULTILINE mode it even matches immediately after newline.</li>\n",
    "    <li>$ - Matches the end of the string.</li>\n",
    "    <li>* - Matches zero or more character.</li>\n",
    "    <li>+ - Matches one or more characters.</li>\n",
    "    <li>? - Matches zero or one character.</li>\n",
    "    <li>\\d - Matches digits.</li>\n",
    "    <li>\\D - Matches non digits.</li>\n",
    "    <li>\\s - Matches space.</li>\n",
    "    <li>\\S - Matches non space.</li>\n",
    "    <li>\\w - Matches words [a-zA-Z0-9_].</li>\n",
    "    <li>\\W - Matches non words [^a-zA-Z0-9_].</li>\n",
    "    <li>| - (a|b) -> a or b</li>\n",
    "    <li>{m} - matches exactly m times</li>\n",
    "    <li>{m,} - matches m or more times</li>\n",
    "    <li>{m,n} - matches m to n times</li>\n",
    "    <li>{m,n}? - matches m to n times, but matches as few as possible.</li>\n",
    "    <li>[] - matches any character inside square brackets</li>\n",
    "    <li>() - matches the regex in () and indicates the start and end of a group.</li>\n",
    "    <li>(?aiLmsux) - one or more letters from the set. It sets the corresponding flag</li>\n",
    "    <li>(?:...) - whatever regex is in the group will not be retrieved after match.</li>\n",
    "    <li>(?aiLmsux-imsx:...) - unsure</li>\n",
    "    <li>(?P<name>...) - name the group</li>\n",
    "</ul>\n",
    "    \n",
    "        "
   ]
  },
  {
   "cell_type": "code",
   "execution_count": 48,
   "metadata": {},
   "outputs": [],
   "source": [
    "text = \"\"\"\\n1@ ake \\\\w, \\\\W, \\\\b, \\\\B and case-insensitive matching dependent on the current locale. \n",
    "This flag can be used only with bytes patterns. \n",
    "The use of this flag is discouraged as the locale mechanism is very unreliable, \n",
    "it only handles one “culture” at a time, and it only works with 8-bit locales. \n",
    " Unicode matching is already enabled by default in Python 3 for Unicode \n",
    "(str) patterns, and \n",
    "it is able to handle different locales/languages. Corresponds to the inline flag (?L).\"\"\"\n",
    "t1 = \"Hello World\""
   ]
  },
  {
   "cell_type": "code",
   "execution_count": 49,
   "metadata": {},
   "outputs": [
    {
     "name": "stdout",
     "output_type": "stream",
     "text": [
      "None\n",
      "<re.Match object; span=(0, 1), match='H'>\n"
     ]
    }
   ],
   "source": [
    "print(re.match('.',text))\n",
    "print(re.match('.',t1))"
   ]
  },
  {
   "cell_type": "code",
   "execution_count": 50,
   "metadata": {},
   "outputs": [
    {
     "name": "stdout",
     "output_type": "stream",
     "text": [
      "['H']\n"
     ]
    }
   ],
   "source": [
    "print(re.findall(\"^\\w\",t1))"
   ]
  },
  {
   "cell_type": "code",
   "execution_count": 51,
   "metadata": {},
   "outputs": [
    {
     "name": "stdout",
     "output_type": "stream",
     "text": [
      "['d']\n"
     ]
    }
   ],
   "source": [
    "print(re.findall(\"\\w$\",t1))"
   ]
  },
  {
   "cell_type": "code",
   "execution_count": 52,
   "metadata": {},
   "outputs": [
    {
     "name": "stdout",
     "output_type": "stream",
     "text": [
      "['Hello', '', 'World', '']\n"
     ]
    }
   ],
   "source": [
    "print(re.findall(\"\\w*\",t1))"
   ]
  },
  {
   "cell_type": "code",
   "execution_count": 53,
   "metadata": {},
   "outputs": [
    {
     "name": "stdout",
     "output_type": "stream",
     "text": [
      "['Hello', 'World']\n"
     ]
    }
   ],
   "source": [
    "print(re.findall(\"\\w+\",t1))"
   ]
  },
  {
   "cell_type": "code",
   "execution_count": 54,
   "metadata": {},
   "outputs": [
    {
     "name": "stdout",
     "output_type": "stream",
     "text": [
      "['H', 'e', 'l', 'l', 'o', '', 'W', 'o', 'r', 'l', 'd', '']\n"
     ]
    }
   ],
   "source": [
    "print(re.findall(\"\\w?\",t1))"
   ]
  },
  {
   "cell_type": "code",
   "execution_count": 55,
   "metadata": {},
   "outputs": [
    {
     "name": "stdout",
     "output_type": "stream",
     "text": [
      "['', 'H', '', 'e', '', 'l', '', 'l', '', 'o', '', '', 'W', '', 'o', '', 'r', '', 'l', '', 'd', '']\n"
     ]
    }
   ],
   "source": [
    "print(re.findall(\"\\w*?\",t1))"
   ]
  },
  {
   "cell_type": "code",
   "execution_count": 56,
   "metadata": {},
   "outputs": [
    {
     "name": "stdout",
     "output_type": "stream",
     "text": [
      "['H', 'e', 'l', 'l', 'o', 'W', 'o', 'r', 'l', 'd']\n"
     ]
    }
   ],
   "source": [
    "print(re.findall(\"\\w+?\",t1))"
   ]
  },
  {
   "cell_type": "code",
   "execution_count": 57,
   "metadata": {},
   "outputs": [
    {
     "name": "stdout",
     "output_type": "stream",
     "text": [
      "['He', 'll', 'Wo', 'rl']\n"
     ]
    }
   ],
   "source": [
    "print(re.findall(\"\\w{2}\",t1))"
   ]
  },
  {
   "cell_type": "code",
   "execution_count": 58,
   "metadata": {},
   "outputs": [
    {
     "name": "stdout",
     "output_type": "stream",
     "text": [
      "['Hell', 'Worl']\n"
     ]
    }
   ],
   "source": [
    "print(re.findall(\"\\w{2,4}\",t1))"
   ]
  },
  {
   "cell_type": "code",
   "execution_count": 59,
   "metadata": {},
   "outputs": [
    {
     "name": "stdout",
     "output_type": "stream",
     "text": [
      "['Hel', 'lo', '', 'Wor', 'ld', '']\n"
     ]
    }
   ],
   "source": [
    "print(re.findall(\"\\w{,3}\",t1))"
   ]
  },
  {
   "cell_type": "code",
   "execution_count": 60,
   "metadata": {},
   "outputs": [
    {
     "name": "stdout",
     "output_type": "stream",
     "text": [
      "['He', 'll', 'Wo', 'rl']\n"
     ]
    }
   ],
   "source": [
    "print(re.findall(\"\\w{2,4}?\",t1))"
   ]
  },
  {
   "cell_type": "code",
   "execution_count": 61,
   "metadata": {},
   "outputs": [
    {
     "name": "stdout",
     "output_type": "stream",
     "text": [
      "['e', 'd']\n"
     ]
    }
   ],
   "source": [
    "print(re.findall(\"[c-i]+\",t1))"
   ]
  },
  {
   "cell_type": "code",
   "execution_count": 62,
   "metadata": {},
   "outputs": [
    {
     "name": "stdout",
     "output_type": "stream",
     "text": [
      "['e', 'r']\n"
     ]
    }
   ],
   "source": [
    "print(re.findall(\"e|r\",t1))"
   ]
  },
  {
   "cell_type": "code",
   "execution_count": 63,
   "metadata": {},
   "outputs": [
    {
     "name": "stdout",
     "output_type": "stream",
     "text": [
      "['ll']\n"
     ]
    }
   ],
   "source": [
    "print(re.findall(\"(ll)\",t1))"
   ]
  },
  {
   "cell_type": "code",
   "execution_count": 64,
   "metadata": {},
   "outputs": [
    {
     "name": "stdout",
     "output_type": "stream",
     "text": [
      "['Hello', 'World']\n"
     ]
    }
   ],
   "source": [
    "print(re.findall(\"(?P<name>\\w+)\",t1))"
   ]
  },
  {
   "cell_type": "code",
   "execution_count": 65,
   "metadata": {},
   "outputs": [
    {
     "name": "stdout",
     "output_type": "stream",
     "text": [
      "['foobar']\n",
      "['FOObar']\n",
      "[]\n",
      "\n",
      "<re.Match object; span=(66, 69), match='the'>\n",
      "<re.Match object; span=(87, 91), match='This'>\n"
     ]
    }
   ],
   "source": [
    "words = [\"foobar\",\"FOObar\",\"fooBAR\"]\n",
    "\n",
    "for word in words:\n",
    "    print(re.findall(\"(?i:foo)bar\",word))\n",
    "print()\n",
    "print(re.search(\"(?i:T)h\\w+\",text))\n",
    "print(re.search(\"Th\\w+\",text))"
   ]
  },
  {
   "cell_type": "code",
   "execution_count": 66,
   "metadata": {},
   "outputs": [
    {
     "name": "stdout",
     "output_type": "stream",
     "text": [
      "('t', '1')\n",
      "<re.Match object; span=(18, 20), match='t1'>\n"
     ]
    }
   ],
   "source": [
    "z = re.search(r\"([a-z])([0-5])\",\"Sample string. test123\")\n",
    "print(z.groups())\n",
    "print(z)"
   ]
  },
  {
   "cell_type": "code",
   "execution_count": 67,
   "metadata": {},
   "outputs": [
    {
     "name": "stdout",
     "output_type": "stream",
     "text": [
      "('1',)\n",
      "<re.Match object; span=(18, 20), match='t1'>\n"
     ]
    }
   ],
   "source": [
    "z = re.search(r\"(?:[a-z])([0-5])\",\"Sample string. test123\")\n",
    "print(z.groups())\n",
    "print(z)"
   ]
  },
  {
   "cell_type": "code",
   "execution_count": 68,
   "metadata": {},
   "outputs": [
    {
     "name": "stdout",
     "output_type": "stream",
     "text": [
      "['foobar']\n",
      "['FOObar']\n",
      "[]\n",
      "\n",
      "<re.Match object; span=(3, 8), match='BARèÑ'>\n",
      "<re.Match object; span=(3, 8), match='BARèÑ'>\n",
      "<re.Match object; span=(0, 8), match='fooBARèÑ'>\n",
      "<re.Match object; span=(3, 6), match='BAR'>\n",
      "<re.Match object; span=(3, 8), match='BARèÑ'>\n"
     ]
    }
   ],
   "source": [
    "words = [\"foobar\",\"FOObar\",\"fooBARèÑ\"]\n",
    "\n",
    "for word in words:\n",
    "    print(re.findall(\"(?i:foo)bar\",word))\n",
    "print()\n",
    "print(re.search(\"(?u:[A-Z])\\w*\",\"fooBARèÑ\"))\n",
    "print(re.search(\"[A-Z]\\w*\",\"fooBARèÑ\"))\n",
    "print(re.search(\"(?i-s:[A-Z])\\w*\",\"fooBARèÑ\"))\n",
    "print(re.search(\"[A-Z](?a:\\w*)\",\"fooBARèÑ\"))\n",
    "print(re.search(\"[A-Z](?-i:\\w*)\",\"fooBARèÑ\"))"
   ]
  },
  {
   "cell_type": "code",
   "execution_count": 69,
   "metadata": {},
   "outputs": [
    {
     "name": "stdout",
     "output_type": "stream",
     "text": [
      "{'name': 't'}\n",
      "<re.Match object; span=(0, 4), match='test'>\n"
     ]
    }
   ],
   "source": [
    "z = (re.search(\"(?P<name>\\w+)\\w+(?P=name)\",\"test a123\"))\n",
    "print(z.groupdict())\n",
    "print(z)"
   ]
  },
  {
   "cell_type": "code",
   "execution_count": 70,
   "metadata": {},
   "outputs": [
    {
     "name": "stdout",
     "output_type": "stream",
     "text": [
      "{'name': 'o'}\n",
      "<re.Match object; span=(4, 8), match='o wo'>\n"
     ]
    }
   ],
   "source": [
    "z = (re.search(\"(?P<name>\\w+) \\w+(?P=name)\",\"Hello world\"))\n",
    "print(z.groupdict())\n",
    "print(z)"
   ]
  },
  {
   "cell_type": "markdown",
   "metadata": {},
   "source": [
    "#### (?#...) - \n",
    "Comment - contents are ignored"
   ]
  },
  {
   "cell_type": "code",
   "execution_count": 71,
   "metadata": {},
   "outputs": [
    {
     "name": "stdout",
     "output_type": "stream",
     "text": [
      "{}\n",
      "<re.Match object; span=(5, 11), match=' world'>\n"
     ]
    }
   ],
   "source": [
    "z = (re.search(\"(?#some comment\\w+) \\w+\",\"Hello world\"))\n",
    "print(z.groupdict())\n",
    "print(z)"
   ]
  },
  {
   "cell_type": "markdown",
   "metadata": {},
   "source": [
    "#### (?=...) - "
   ]
  },
  {
   "cell_type": "code",
   "execution_count": 72,
   "metadata": {},
   "outputs": [
    {
     "name": "stdout",
     "output_type": "stream",
     "text": [
      "<re.Match object; span=(0, 5), match='Hello'>\n",
      "<re.Match object; span=(0, 5), match='Hello'>\t<re.Match object; span=(13, 18), match='Hello'>\n"
     ]
    }
   ],
   "source": [
    "z = (re.finditer(\"Hello(?= world)\",\"Hello world. Hello\"))\n",
    "print(*z,sep=\"\\t\")\n",
    "z = (re.finditer(\"Hello\",\"Hello world. Hello\"))\n",
    "print(*z,sep=\"\\t\")"
   ]
  },
  {
   "cell_type": "markdown",
   "metadata": {},
   "source": [
    "#### (?!...) - "
   ]
  },
  {
   "cell_type": "code",
   "execution_count": 73,
   "metadata": {},
   "outputs": [
    {
     "name": "stdout",
     "output_type": "stream",
     "text": [
      "<re.Match object; span=(13, 18), match='Hello'>\n"
     ]
    }
   ],
   "source": [
    "z = (re.finditer(\"Hello(?! world)\",\"Hello world. Hello123\"))\n",
    "print(*z,sep=\"\\t\")"
   ]
  },
  {
   "cell_type": "markdown",
   "metadata": {},
   "source": [
    "#### (?<=...)"
   ]
  },
  {
   "cell_type": "code",
   "execution_count": 74,
   "metadata": {},
   "outputs": [
    {
     "name": "stdout",
     "output_type": "stream",
     "text": [
      "['def']\n"
     ]
    }
   ],
   "source": [
    "m = re.findall('(?<=abc)def', 'abcdef')\n",
    "print(m)"
   ]
  },
  {
   "cell_type": "code",
   "execution_count": 75,
   "metadata": {},
   "outputs": [
    {
     "name": "stdout",
     "output_type": "stream",
     "text": [
      "['3']\n",
      "['ython', '3']\n"
     ]
    }
   ],
   "source": [
    "m = re.findall(r'(?<=-)\\w+', 'python-3.8')\n",
    "print(m)\n",
    "m = re.findall(r'(?<=-)\\w+', 'p-ython-3.8')\n",
    "print(m)"
   ]
  },
  {
   "cell_type": "code",
   "execution_count": 76,
   "metadata": {},
   "outputs": [
    {
     "name": "stdout",
     "output_type": "stream",
     "text": [
      "['p', 'thon', '8']\n"
     ]
    }
   ],
   "source": [
    "m = re.findall(r'(?<!-)\\w+', 'p-ython-3.8')\n",
    "print(m)"
   ]
  },
  {
   "cell_type": "markdown",
   "metadata": {},
   "source": [
    "#### (?(id/name)yes-pattern|no-pattern)"
   ]
  },
  {
   "cell_type": "code",
   "execution_count": 87,
   "metadata": {},
   "outputs": [
    {
     "name": "stdout",
     "output_type": "stream",
     "text": [
      "[('<', 'user@host.com')]\n"
     ]
    }
   ],
   "source": [
    "p = r\"(<)?(\\w+@\\w+(?:\\.\\w+)+)(?(1)>|'z')\"\n",
    "print(re.findall(p,\"<user@host.com>\"))"
   ]
  },
  {
   "cell_type": "code",
   "execution_count": 88,
   "metadata": {},
   "outputs": [
    {
     "name": "stdout",
     "output_type": "stream",
     "text": [
      "[('h', 'ello'), ('w', 'orl')]\n"
     ]
    }
   ],
   "source": [
    "p = r\"(\\w)?(\\w+)(?(1).|$)\"\n",
    "s = \"hello world\"\n",
    "print(re.findall(p,s))"
   ]
  },
  {
   "cell_type": "code",
   "execution_count": 79,
   "metadata": {},
   "outputs": [
    {
     "name": "stdout",
     "output_type": "stream",
     "text": [
      "['aaa ', 'bbb ']\n",
      "['aaaaa ', 'bbb ']\n",
      "['aaa ', 'bbb ', 'cc ']\n"
     ]
    }
   ],
   "source": [
    "s1 = \"aaaaaa bbb cc \"\n",
    "print(re.findall(\"\\w{3} \",s1))\n",
    "print(re.findall(\"\\w{3,5} \",s1))\n",
    "print(re.findall(\"\\w{,3} \",s1))"
   ]
  },
  {
   "cell_type": "code",
   "execution_count": 80,
   "metadata": {},
   "outputs": [
    {
     "name": "stdout",
     "output_type": "stream",
     "text": [
      "['aaa', 'aaa', 'bbb']\n",
      "['aaaaa', 'bbb']\n"
     ]
    }
   ],
   "source": [
    "print(re.findall(\"\\w{3,5}?\",s1))\n",
    "print(re.findall(\"\\w{3,5}\",s1))"
   ]
  },
  {
   "cell_type": "code",
   "execution_count": 81,
   "metadata": {},
   "outputs": [
    {
     "name": "stdout",
     "output_type": "stream",
     "text": [
      "['the']\n"
     ]
    }
   ],
   "source": [
    "p = r\"(.+) \\1\"\n",
    "s = \"the the\"\n",
    "print(re.findall(p,s))"
   ]
  },
  {
   "cell_type": "code",
   "execution_count": 82,
   "metadata": {},
   "outputs": [
    {
     "name": "stdout",
     "output_type": "stream",
     "text": [
      "None\n"
     ]
    }
   ],
   "source": [
    "p = r\"\\w\\A\"\n",
    "s = \"the the\"\n",
    "print(re.search(p,s))"
   ]
  },
  {
   "cell_type": "code",
   "execution_count": 83,
   "metadata": {},
   "outputs": [
    {
     "name": "stdout",
     "output_type": "stream",
     "text": [
      "['H']\n"
     ]
    }
   ],
   "source": [
    "p = r\"\\bH\"\n",
    "s = \"Hello world\"\n",
    "print(re.findall(p,s))"
   ]
  },
  {
   "cell_type": "code",
   "execution_count": 84,
   "metadata": {},
   "outputs": [
    {
     "name": "stdout",
     "output_type": "stream",
     "text": [
      "['h', 'h']\n",
      "[]\n"
     ]
    }
   ],
   "source": [
    "p1 = r\"h\\B\"\n",
    "p2 = r\"e\\B\"\n",
    "s = \"the the\"\n",
    "print(re.findall(p1,s))\n",
    "print(re.findall(p2,s))"
   ]
  },
  {
   "cell_type": "markdown",
   "metadata": {},
   "source": [
    "For reference click [here](https://stackoverflow.com/questions/22937618/reference-what-does-this-regex-mean/22944075#22944075)"
   ]
  },
  {
   "cell_type": "code",
   "execution_count": null,
   "metadata": {},
   "outputs": [],
   "source": []
  }
 ],
 "metadata": {
  "kernelspec": {
   "display_name": "Python 3",
   "language": "python",
   "name": "python3"
  },
  "language_info": {
   "codemirror_mode": {
    "name": "ipython",
    "version": 3
   },
   "file_extension": ".py",
   "mimetype": "text/x-python",
   "name": "python",
   "nbconvert_exporter": "python",
   "pygments_lexer": "ipython3",
   "version": "3.7.4"
  }
 },
 "nbformat": 4,
 "nbformat_minor": 4
}
